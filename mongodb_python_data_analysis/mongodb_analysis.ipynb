{
 "cells": [
  {
   "cell_type": "markdown",
   "id": "d4b9349f",
   "metadata": {},
   "source": [
    "# 1. Introduction"
   ]
  },
  {
   "cell_type": "code",
   "execution_count": 117,
   "id": "6c37084d",
   "metadata": {},
   "outputs": [],
   "source": [
    "#Import libraries\n",
    "import pandas as pd\n",
    "import numpy as np\n",
    "\n",
    "from pymongo import MongoClient"
   ]
  },
  {
   "cell_type": "code",
   "execution_count": 118,
   "id": "a315ac24",
   "metadata": {},
   "outputs": [],
   "source": [
    "#Load data files into pandas dataframes\n",
    "movies_df = pd.read_csv('contentDataPrime.csv')\n",
    "genres_df = pd.read_csv('contentDataGenre.csv')\n",
    "regions_df = pd.read_csv('contentDataRegion.csv')"
   ]
  },
  {
   "cell_type": "markdown",
   "id": "2965e5cc",
   "metadata": {},
   "source": [
    "# 2. Data Loading and Preparation"
   ]
  },
  {
   "cell_type": "markdown",
   "id": "83df5aa1",
   "metadata": {},
   "source": [
    "## 2.1. Treat Movies Data"
   ]
  },
  {
   "cell_type": "markdown",
   "id": "3dea74d8",
   "metadata": {},
   "source": [
    "For some columns in the movies dataframe, missing values are assigned with \"-1\".  Our first step will be to replace these values with nulls. This will help us later on to handle all missing values in similar fashion. The columns in question are:\n",
    "\n",
    "* length\n",
    "* releaseYear\n",
    "* endYear\n",
    "* gross"
   ]
  },
  {
   "cell_type": "code",
   "execution_count": 119,
   "id": "e09c183b",
   "metadata": {},
   "outputs": [],
   "source": [
    "#Handle missing values assigned as \"-1\"\n",
    "columns_to_treat = ['length', 'releaseYear', 'endYear', 'gross']\n",
    "\n",
    "for col in columns_to_treat:\n",
    "    index = movies_df[movies_df[col] == -1].index\n",
    "    movies_df.loc[index, col] = np.nan"
   ]
  },
  {
   "cell_type": "code",
   "execution_count": 120,
   "id": "bfccd6f6",
   "metadata": {},
   "outputs": [
    {
     "data": {
      "text/html": [
       "<div>\n",
       "<style scoped>\n",
       "    .dataframe tbody tr th:only-of-type {\n",
       "        vertical-align: middle;\n",
       "    }\n",
       "\n",
       "    .dataframe tbody tr th {\n",
       "        vertical-align: top;\n",
       "    }\n",
       "\n",
       "    .dataframe thead th {\n",
       "        text-align: right;\n",
       "    }\n",
       "</style>\n",
       "<table border=\"1\" class=\"dataframe\">\n",
       "  <thead>\n",
       "    <tr style=\"text-align: right;\">\n",
       "      <th></th>\n",
       "      <th>dataId</th>\n",
       "      <th>contentType</th>\n",
       "      <th>title</th>\n",
       "      <th>length</th>\n",
       "      <th>releaseYear</th>\n",
       "      <th>endYear</th>\n",
       "      <th>votes</th>\n",
       "      <th>rating</th>\n",
       "      <th>gross</th>\n",
       "      <th>certificate</th>\n",
       "      <th>description</th>\n",
       "    </tr>\n",
       "  </thead>\n",
       "  <tbody>\n",
       "    <tr>\n",
       "      <th>94850</th>\n",
       "      <td>6986</td>\n",
       "      <td>tvSeries</td>\n",
       "      <td>Bob Hearts Abishola</td>\n",
       "      <td>21</td>\n",
       "      <td>2019.0</td>\n",
       "      <td>NaN</td>\n",
       "      <td>4617</td>\n",
       "      <td>6.9</td>\n",
       "      <td>NaN</td>\n",
       "      <td>TV-PG</td>\n",
       "      <td>An American guy falls in love with his Nigeria...</td>\n",
       "    </tr>\n",
       "    <tr>\n",
       "      <th>95790</th>\n",
       "      <td>6986</td>\n",
       "      <td>tvSeries</td>\n",
       "      <td>Kung Fu</td>\n",
       "      <td>-1</td>\n",
       "      <td>2021.0</td>\n",
       "      <td>NaN</td>\n",
       "      <td>4615</td>\n",
       "      <td>5.5</td>\n",
       "      <td>NaN</td>\n",
       "      <td>TV-14</td>\n",
       "      <td>A quarter-life crisis causes a young Chinese-A...</td>\n",
       "    </tr>\n",
       "    <tr>\n",
       "      <th>101104</th>\n",
       "      <td>0</td>\n",
       "      <td>movie</td>\n",
       "      <td>The Shawshank Redemption</td>\n",
       "      <td>142</td>\n",
       "      <td>1994.0</td>\n",
       "      <td>NaN</td>\n",
       "      <td>2715939</td>\n",
       "      <td>9.3</td>\n",
       "      <td>28340000.0</td>\n",
       "      <td>R</td>\n",
       "      <td>Over the course of several years, two convicts...</td>\n",
       "    </tr>\n",
       "    <tr>\n",
       "      <th>101605</th>\n",
       "      <td>0</td>\n",
       "      <td>movie</td>\n",
       "      <td>The Shawshank Redemption</td>\n",
       "      <td>142</td>\n",
       "      <td>1994.0</td>\n",
       "      <td>NaN</td>\n",
       "      <td>2715939</td>\n",
       "      <td>9.3</td>\n",
       "      <td>28340000.0</td>\n",
       "      <td>R</td>\n",
       "      <td>Over the course of several years, two convicts...</td>\n",
       "    </tr>\n",
       "  </tbody>\n",
       "</table>\n",
       "</div>"
      ],
      "text/plain": [
       "        dataId contentType                     title length  releaseYear  \\\n",
       "94850     6986    tvSeries       Bob Hearts Abishola     21       2019.0   \n",
       "95790     6986    tvSeries                   Kung Fu     -1       2021.0   \n",
       "101104       0       movie  The Shawshank Redemption    142       1994.0   \n",
       "101605       0       movie  The Shawshank Redemption    142       1994.0   \n",
       "\n",
       "        endYear    votes  rating       gross certificate  \\\n",
       "94850       NaN     4617     6.9         NaN       TV-PG   \n",
       "95790       NaN     4615     5.5         NaN       TV-14   \n",
       "101104      NaN  2715939     9.3  28340000.0           R   \n",
       "101605      NaN  2715939     9.3  28340000.0           R   \n",
       "\n",
       "                                              description  \n",
       "94850   An American guy falls in love with his Nigeria...  \n",
       "95790   A quarter-life crisis causes a young Chinese-A...  \n",
       "101104  Over the course of several years, two convicts...  \n",
       "101605  Over the course of several years, two convicts...  "
      ]
     },
     "execution_count": 120,
     "metadata": {},
     "output_type": "execute_result"
    }
   ],
   "source": [
    "#Identify duplicates\n",
    "duplicate_movies = movies_df['dataId'].value_counts()\n",
    "duplicate_movies = list(duplicate_movies[duplicate_movies > 1].index)\n",
    "\n",
    "movies_df[movies_df['dataId'].isin(duplicate_movies)]"
   ]
  },
  {
   "cell_type": "code",
   "execution_count": 121,
   "id": "0368c11b",
   "metadata": {},
   "outputs": [],
   "source": [
    "#Remove duplicates on dataId\n",
    "movies_df.drop_duplicates(subset='dataId', inplace=True)"
   ]
  },
  {
   "cell_type": "code",
   "execution_count": 122,
   "id": "c596e75b",
   "metadata": {},
   "outputs": [],
   "source": [
    "#Rename dataId fields to _id (will be used as index in MongoDB)\n",
    "rename_dict = {'dataId': '_id'}\n",
    "movies_df.rename(columns=rename_dict, inplace=True)"
   ]
  },
  {
   "cell_type": "markdown",
   "id": "d2eb0aab",
   "metadata": {},
   "source": [
    "## 2.2. Consolidate Data"
   ]
  },
  {
   "cell_type": "code",
   "execution_count": 123,
   "id": "9fbec396",
   "metadata": {},
   "outputs": [],
   "source": [
    "#Consolidate data into a single dataframe\n",
    "consolidated_df = movies_df.join(on='_id', other=genres_df.set_index('dataId'))\n",
    "consolidated_df = consolidated_df.join(on='_id', other=regions_df.set_index('dataId'))\n",
    "\n",
    "consolidated_df['genre'].fillna('', inplace=True)\n",
    "consolidated_df['region'].fillna('', inplace=True)"
   ]
  },
  {
   "cell_type": "code",
   "execution_count": 124,
   "id": "69c0335a",
   "metadata": {},
   "outputs": [],
   "source": [
    "#Group by genres and regions data\n",
    "group_columns = list(movies_df.columns)\n",
    "\n",
    "consolidated_df = consolidated_df.groupby(by=group_columns, as_index=False, dropna=False).agg({\n",
    "    'region': lambda x: list(set(x)),\n",
    "    'genre': lambda x: list(set(x))\n",
    "})"
   ]
  },
  {
   "cell_type": "code",
   "execution_count": 127,
   "id": "c665a907",
   "metadata": {},
   "outputs": [],
   "source": [
    "#Create functions to remove keys with null values or empty lists from dictionary\n",
    "def remove_null_from_dict(input_dict):\n",
    "    return {\n",
    "        k: input_dict[k] \n",
    "        for k in input_dict \n",
    "        if (\n",
    "            input_dict[k] == input_dict[k] and \n",
    "            input_dict[k] != [] and \n",
    "            input_dict[k] != ['']\n",
    "        )\n",
    "    }"
   ]
  },
  {
   "cell_type": "code",
   "execution_count": 128,
   "id": "1f810602",
   "metadata": {},
   "outputs": [],
   "source": [
    "#Transform data into a list of dictionaries\n",
    "mongodb_input_data = [\n",
    "    remove_null_from_dict(record) for record in consolidated_df.to_dict(orient='records')\n",
    "]"
   ]
  },
  {
   "cell_type": "markdown",
   "id": "636ed9ca",
   "metadata": {},
   "source": [
    "# 3. Insert Data Into MongoDB "
   ]
  },
  {
   "cell_type": "code",
   "execution_count": 129,
   "id": "9dc3b563",
   "metadata": {},
   "outputs": [],
   "source": [
    "#Set up connection to MongoDB\n",
    "mongodb_uri = 'mongodb://localhost:27017'\n",
    "db_name = 'imdb'\n",
    "\n",
    "client = MongoClient(mongodb_uri)\n",
    "db = client[db_name]"
   ]
  },
  {
   "cell_type": "code",
   "execution_count": 130,
   "id": "a7da39bf",
   "metadata": {},
   "outputs": [
    {
     "data": {
      "text/plain": [
       "<pymongo.results.InsertManyResult at 0x7f9b4019da00>"
      ]
     },
     "execution_count": 130,
     "metadata": {},
     "output_type": "execute_result"
    }
   ],
   "source": [
    "#Insert data into the movies_and_tvshows collection\n",
    "db.movies_and_tvshows.insert_many(mongodb_input_data)"
   ]
  }
 ],
 "metadata": {
  "kernelspec": {
   "display_name": "Python 3 (ipykernel)",
   "language": "python",
   "name": "python3"
  },
  "language_info": {
   "codemirror_mode": {
    "name": "ipython",
    "version": 3
   },
   "file_extension": ".py",
   "mimetype": "text/x-python",
   "name": "python",
   "nbconvert_exporter": "python",
   "pygments_lexer": "ipython3",
   "version": "3.8.10"
  }
 },
 "nbformat": 4,
 "nbformat_minor": 5
}
